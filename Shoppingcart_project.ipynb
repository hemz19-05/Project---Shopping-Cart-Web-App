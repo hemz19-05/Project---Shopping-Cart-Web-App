{
 "cells": [
  {
   "cell_type": "code",
   "execution_count": 4,
   "id": "a56c6746",
   "metadata": {},
   "outputs": [],
   "source": [
    "class ShoppingCart:\n",
    "\n",
    "    def __init__(self):\n",
    "        self.cart = {}\n",
    "\n",
    "    def add_item(self, name, price, quantity=1):\n",
    "        if name in self.cart:\n",
    "            self.cart[name]['quantity'] += quantity\n",
    "        else:\n",
    "            self.cart[name] = {'price' : price, 'quantity' : quantity}     \n",
    "        return f'You have added {name}, ${price}, {quantity}.' \n",
    "    \n",
    "    def remove_item(self, name):\n",
    "        if name in self.cart:\n",
    "            del self.cart[name]\n",
    "            return f'You have deleted {name} from cart'\n",
    "        else:\n",
    "            return f'{name} is not in cart!'\n",
    "            \n",
    "    def view_cart(self):\n",
    "        if not self.cart:\n",
    "            return f'Your cart is empty!'\n",
    "        return self.cart\n",
    "\n",
    "    def get_total(self):\n",
    "        total = 0\n",
    "        for item in self.cart.values():\n",
    "            total += item['price'] * item['quantity']\n",
    "        return f'Total is ${total:.2f}'\n",
    "\n",
    "    def clear_cart(self):\n",
    "        self.cart.clear()\n",
    "        return f'Cart is cleared!'\n"
   ]
  },
  {
   "cell_type": "code",
   "execution_count": 6,
   "id": "f60b459d",
   "metadata": {},
   "outputs": [
    {
     "name": "stdout",
     "output_type": "stream",
     "text": [
      "{'Apple': {'price': 2.5, 'quantity': 4}, 'Banana': {'price': 1.0, 'quantity': 2}}\n",
      "Total is $12.00\n",
      "You have deleted Banana from cart\n",
      "{'Apple': {'price': 2.5, 'quantity': 4}}\n",
      "Cart is cleared!\n",
      "Your cart is empty!\n"
     ]
    }
   ],
   "source": [
    "cart = ShoppingCart()\n",
    "cart.add_item(\"Apple\", 2.5, 3)\n",
    "cart.add_item(\"Banana\", 1.0, 2)\n",
    "cart.add_item(\"Apple\", 2.5, 1)\n",
    "\n",
    "print(cart.view_cart())\n",
    "print(cart.get_total())\n",
    "print(cart.remove_item(\"Banana\"))\n",
    "print(cart.view_cart())\n",
    "print(cart.clear_cart())\n",
    "print(cart.view_cart())\n"
   ]
  },
  {
   "cell_type": "code",
   "execution_count": null,
   "id": "b5352788",
   "metadata": {},
   "outputs": [],
   "source": []
  }
 ],
 "metadata": {
  "kernelspec": {
   "display_name": "Python 3",
   "language": "python",
   "name": "python3"
  },
  "language_info": {
   "codemirror_mode": {
    "name": "ipython",
    "version": 3
   },
   "file_extension": ".py",
   "mimetype": "text/x-python",
   "name": "python",
   "nbconvert_exporter": "python",
   "pygments_lexer": "ipython3",
   "version": "3.10.0"
  }
 },
 "nbformat": 4,
 "nbformat_minor": 5
}
